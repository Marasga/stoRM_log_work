{
 "cells": [
  {
   "cell_type": "code",
   "execution_count": 37,
   "metadata": {},
   "outputs": [],
   "source": [
    "#!/usr/bin/python\n",
    "# -*- coding : utf-8 -*-"
   ]
  },
  {
   "cell_type": "code",
   "execution_count": 38,
   "metadata": {},
   "outputs": [],
   "source": [
    "%matplotlib inline\n",
    "\n",
    "import numpy as np\n",
    "import pandas as pd\n",
    "import matplotlib.pyplot as plt"
   ]
  },
  {
   "cell_type": "markdown",
   "metadata": {},
   "source": [
    "##### import msgpack or csv"
   ]
  },
  {
   "cell_type": "code",
   "execution_count": 39,
   "metadata": {},
   "outputs": [],
   "source": [
    "def msg_to_df(file_path):\n",
    "    \"\"\"\n",
    "    Import msgpack as pandas DF\n",
    "    \"\"\"\n",
    "    storm_df = pd.read_msgpack(file_path)\n",
    "    return storm_df"
   ]
  },
  {
   "cell_type": "code",
   "execution_count": null,
   "metadata": {},
   "outputs": [],
   "source": [
    "def csv_to_df(file_path):\n",
    "    \"\"\"\n",
    "    Import csv as pandas DF\n",
    "    \"\"\"\n",
    "    data_type={'DATE' : object, 'TOKEN' : object, 'MESSAGE' : object, 'TYPE' : object}\n",
    "    storm_df = pd.read_csv(file_path)\n",
    "    strom_df = pd.DataFrame(storm_df)\n",
    "    return storm_df"
   ]
  },
  {
   "cell_type": "markdown",
   "metadata": {},
   "source": [
    "##### log's unique occurencies functions"
   ]
  },
  {
   "cell_type": "code",
   "execution_count": null,
   "metadata": {},
   "outputs": [],
   "source": [
    "def df_occ(storm_df, label):\n",
    "    ser = storm_df.label.values_count()\n",
    "    return df"
   ]
  },
  {
   "cell_type": "code",
   "execution_count": null,
   "metadata": {},
   "outputs": [],
   "source": [
    "def unique_count(storm_df,label):\n",
    "    return len(storm_df[label].unique())"
   ]
  },
  {
   "cell_type": "code",
   "execution_count": null,
   "metadata": {},
   "outputs": [],
   "source": [
    "def unique_count_all(storm_df):\n",
    "    #list(DataFrame) ci restituisce i nomi delle colonne in una lista\n",
    "    labels = list(storm_df)\n",
    "    counts = []\n",
    "    for label in labels:\n",
    "        counts.append(unique_count(storm_df,label))\n",
    "    dizionario = { 'COLONNA': labels, 'VALORI UNICI' : counts}\n",
    "    uniques_df = pd.DataFrame.from_dict(dizionario)\n",
    "    #uniques_df.columns = ['COLONNA','VALORI UNICI']\n",
    "    return uniques_df.sort_values(by=['VALORI UNICI'],ascending=False) \n",
    "    "
   ]
  },
  {
   "cell_type": "code",
   "execution_count": null,
   "metadata": {},
   "outputs": [],
   "source": [
    "def barrer1(d2_df,larg=14,alt=11):\n",
    "    fig = plt.figure(figsize=(larg,alt))\n",
    "    plt.title('Valori unici in ogni colonna'.upper())\n",
    "    labels = list(d2_df)\n",
    "    annotation = str(d2_df)\n",
    "    \n",
    "    x_ann = len(d2_df[labels[0]])\n",
    "    y_ann = max(d2_df[labels[1]])\n",
    "    \n",
    "    plt.ylabel(labels[1])\n",
    "    plt.xlabel(labels[0])\n",
    "    \n",
    "    plt.bar(d2_df[labels[0]], height= d2_df[labels[1]], color='pink')\n",
    "    \n",
    "    #plt.legend(bbox_to_anchor=(1.05, 1), loc=2, borderaxespad=0.)\n",
    "    plt.text(x_ann*1.2, y_ann*0.6, annotation, withdash=False,fontsize=10)\n",
    "    #plt.savefig('valori_unici_1daylog.jpg',figsize=(14, 11),dpi=600)\n",
    "    fig.savefig('valori_unici_1daylog.jpg',figsize=(14, 20),dpi=600)\n",
    "    plt.show()\n",
    "\n",
    "    "
   ]
  },
  {
   "cell_type": "markdown",
   "metadata": {},
   "source": [
    "##### occurencies counter function"
   ]
  },
  {
   "cell_type": "code",
   "execution_count": null,
   "metadata": {},
   "outputs": [],
   "source": [
    "def most_frequent(storm_df, label):\n",
    "    val_freq_df = storm_df[label].value_counts().to_frame()\n",
    "    val_freq_df = pd.DataFrame({label : list(val_freq_df.index), 'OCCURENCIES' : list(val_freq_df.values)},columns=[label,'OCCURENCIES'])\n",
    "    \n",
    "    #check for missing value:\n",
    "    if (reduce(lambda x, y: x+y, val_freq_df['OCCURENCIES']) != len(storm_df[label])):\n",
    "        print \"SOMETHING GONE WRONG\" \n",
    "        \n",
    "    return val_freq_df"
   ]
  },
  {
   "cell_type": "code",
   "execution_count": null,
   "metadata": {},
   "outputs": [],
   "source": [
    "def barrer2(d2_df, legend=False,larg=12,alt=8):\n",
    "    labels = list(d2_df)\n",
    "    annotation = str(d2_df)\n",
    "    \n",
    "    x_ann = len(d2_df[labels[0]])\n",
    "    y_ann = max(d2_df[labels[1]])\n",
    "    \n",
    "    fig = plt.figure(figsize=(larg,alt))\n",
    "    plt.title(str('occorrenze di ' + labels[0]).upper())\n",
    "    plt.ylabel(labels[1])\n",
    "    plt.xlabel(labels[0])\n",
    "    \n",
    "    if max(d2_df[labels[0]]) > 10:\n",
    "        plt.bar(list(range(0,len(d2_df[labels[0]]),1)), height= d2_df[labels[1]], color='blue')\n",
    "    else:\n",
    "        plt.bar(d2_df[labels[0]], height= d2_df[labels[1]], color='pink')\n",
    "    \n",
    "    #plt.legend(bbox_to_anchor=(1.05, 1), loc=2, borderaxespad=0.)\n",
    "    if legend:\n",
    "        plt.text(x_ann*1.1, y_ann*0, annotation, withdash=False,fontsize=12)\n",
    "    #plt.savefig('most_freq' + 'MESSAGE' + '.jpg',figsize=(14, 11),dpi=600)\n",
    "    plt.show()\n",
    "    "
   ]
  },
  {
   "cell_type": "markdown",
   "metadata": {},
   "source": [
    "##### most frequent (type 2) values for most frequent (type 1) values "
   ]
  },
  {
   "cell_type": "markdown",
   "metadata": {},
   "source": [
    "Per un data colonna del dataframe questa funzione trova i valori unici e ne conta la frequenza disponendoli in ordine discendente per valore di freq, selezionatone uno con N, dove N è la sua posizione a partire dall'alto la funzione ci filtra il DF restituendo un DF con tutte le righe per cui il valore della colonna è quello che abbiamo selezionato."
   ]
  },
  {
   "cell_type": "code",
   "execution_count": null,
   "metadata": {},
   "outputs": [],
   "source": [
    "def numb_of_for(storm_df, label1, N=0):\n",
    "    cella_studio = most_frequent(storm_df, label1)[label1][N]\n",
    "    filtered_df = storm_df.loc[storm_df[label1] == cella_studio]\n",
    "    return filtered_df"
   ]
  },
  {
   "cell_type": "code",
   "execution_count": null,
   "metadata": {},
   "outputs": [],
   "source": [
    "def numb_of_for_val_occ(storm_df, label1, label2, N=0):\n",
    "    cella_studio = most_frequent(storm_df, label1)[label1][N]\n",
    "    filtered_df = storm_df.loc[storm_df[label1] == cella_studio]\n",
    "    \n",
    "    return most_frequent(filtered_df,label2)"
   ]
  },
  {
   "cell_type": "code",
   "execution_count": null,
   "metadata": {},
   "outputs": [],
   "source": [
    "def barrer3(d2_df, legend=False, secondo_tipo=' ',larg=12,alt=8):\n",
    "    labels = list(d2_df)\n",
    "    annotation = str(d2_df)\n",
    "    \n",
    "    x_ann = len(d2_df[labels[0]])\n",
    "    y_ann = max(d2_df[labels[1]])\n",
    "    \n",
    "    fig = plt.figure(figsize=(larg,alt))\n",
    "    plt.title(str('occorrenze di ' + labels[0]).upper())\n",
    "    plt.ylabel(labels[1])\n",
    "    plt.xlabel(labels[0])\n",
    "    \n",
    "    if max(d2_df[labels[0]]) > 10:\n",
    "        plt.bar(list(range(0,len(d2_df[labels[0]]),1)), height= d2_df[labels[1]], color='blue')\n",
    "    else:\n",
    "        plt.bar(d2_df[labels[0]], height= d2_df[labels[1]], color='pink')\n",
    "    \n",
    "    #plt.legend(bbox_to_anchor=(1.05, 1), loc=2, borderaxespad=0.)\n",
    "    if legend:\n",
    "        plt.text(x_ann*1.1, y_ann*0, annotation, withdash=False,fontsize=12)\n",
    "    #plt.savefig('most_freq' + 'MESSAGE' + '.jpg',figsize=(14, 11),dpi=600)\n",
    "    plt.show()\n",
    "    "
   ]
  },
  {
   "cell_type": "markdown",
   "metadata": {},
   "source": [
    "# -------------------------------------------------------------------------------------------------------"
   ]
  },
  {
   "cell_type": "markdown",
   "metadata": {},
   "source": [
    "Test for checking parsing through accessing different formats, time for elabs "
   ]
  },
  {
   "cell_type": "code",
   "execution_count": 40,
   "metadata": {},
   "outputs": [
    {
     "name": "stdout",
     "output_type": "stream",
     "text": [
      "CPU times: user 11.9 s, sys: 12.5 s, total: 24.4 s\n",
      "Wall time: 41.2 s\n"
     ]
    }
   ],
   "source": [
    "%time a = msg_to_df(\"storm-frontend-server.log-20180901.msg\")"
   ]
  },
  {
   "cell_type": "markdown",
   "metadata": {},
   "source": [
    "^ usa circa 7gb di ram per 3,5 gb di log strutturato"
   ]
  },
  {
   "cell_type": "code",
   "execution_count": null,
   "metadata": {
    "scrolled": true
   },
   "outputs": [],
   "source": [
    "#%time b = csv_to_df(\"storm-frontend-server.log-20180901.csv\")"
   ]
  },
  {
   "cell_type": "code",
   "execution_count": null,
   "metadata": {
    "scrolled": true
   },
   "outputs": [],
   "source": [
    "display(a.head(10))"
   ]
  },
  {
   "cell_type": "markdown",
   "metadata": {},
   "source": [
    "For a single column"
   ]
  },
  {
   "cell_type": "code",
   "execution_count": null,
   "metadata": {},
   "outputs": [],
   "source": [
    " %time b = unique_count_all(a)"
   ]
  },
  {
   "cell_type": "code",
   "execution_count": null,
   "metadata": {},
   "outputs": [],
   "source": [
    "%time d = most_frequent(a,'THREAD')"
   ]
  },
  {
   "cell_type": "markdown",
   "metadata": {},
   "source": [
    "## <span style=\"color:red\"> FREQUENZA DI TIPI (1DAYLOG) </span>"
   ]
  },
  {
   "cell_type": "code",
   "execution_count": null,
   "metadata": {},
   "outputs": [],
   "source": [
    "barrer2(most_frequent(a,'TYPE')[:].head(20),True) #Togliere hashing per visualizzare tutto"
   ]
  },
  {
   "cell_type": "markdown",
   "metadata": {},
   "source": [
    "## <span style=\"color:red\"> FREQUENZA DI MESSAGE (HEAD, 1DAYLOG) </span>"
   ]
  },
  {
   "cell_type": "code",
   "execution_count": null,
   "metadata": {},
   "outputs": [],
   "source": [
    "barrer2(most_frequent(a,'MESSAGE').head(20),True)"
   ]
  },
  {
   "cell_type": "markdown",
   "metadata": {},
   "source": [
    "## <span style=\"color:red\"> FREQUENZA DI MESSAGE (TAIL, 1DAYLOG) </span>"
   ]
  },
  {
   "cell_type": "code",
   "execution_count": null,
   "metadata": {},
   "outputs": [],
   "source": [
    "barrer2(most_frequent(a,'MESSAGE').tail(20),True)"
   ]
  },
  {
   "cell_type": "markdown",
   "metadata": {},
   "source": [
    "## <span style=\"color:red\"> FREQUENZA DI THREAD (TOTALE, 1DAYLOG) </span> Fare con quello intermedio\n"
   ]
  },
  {
   "cell_type": "code",
   "execution_count": null,
   "metadata": {},
   "outputs": [],
   "source": [
    "barrer2(d,True)"
   ]
  },
  {
   "cell_type": "markdown",
   "metadata": {},
   "source": [
    "<span style=\"color:red\"> THREAD </span> sembra che ci siano in totale 301 thread assegnati alle istanze di stoRM (per atlas?) l'andamento è significativo perchè ci mostra che una giornata più o meno i thread ricoronno tutti lo stesso numero di volte con una differenza del 2% circa tra l'occorrenza minore e la maggiore. \n",
    "IPOTESI: Questo può significare che la macchina cerca sempre di distribuire le operazioni tra tutti i thread disponibili."
   ]
  },
  {
   "cell_type": "markdown",
   "metadata": {},
   "source": [
    "## <span style=\"color:red\"> FREQUENZA DI TOKEN (HEAD(50), 1DAYLOG) </span> Anche per log intermedio\n"
   ]
  },
  {
   "cell_type": "code",
   "execution_count": null,
   "metadata": {},
   "outputs": [],
   "source": [
    "barrer2(most_frequent(a,'TOKEN').head(50),True)"
   ]
  },
  {
   "cell_type": "markdown",
   "metadata": {},
   "source": [
    "## <span style=\"color:red\"> FREQUENZA DI TOKEN (TAIL, 1DAYLOG) </span>\n"
   ]
  },
  {
   "cell_type": "code",
   "execution_count": null,
   "metadata": {},
   "outputs": [],
   "source": [
    "barrer2(most_frequent(a,'TOKEN').tail(20),True)"
   ]
  },
  {
   "cell_type": "markdown",
   "metadata": {},
   "source": [
    "##  <span style=\"color:red\"> Valori unici per ogni colonna </span> <br> NB:DA FARE ANCHE PER ORA per thread e token"
   ]
  },
  {
   "cell_type": "code",
   "execution_count": null,
   "metadata": {
    "scrolled": true
   },
   "outputs": [],
   "source": [
    "barrer1(b[:])"
   ]
  },
  {
   "cell_type": "code",
   "execution_count": null,
   "metadata": {},
   "outputs": [],
   "source": [
    "WARNS_OCC = numb_of_for_val_occ(a,'TOKEN','MESSAGE',1)"
   ]
  },
  {
   "cell_type": "markdown",
   "metadata": {},
   "source": [
    "## <span style=\"color:red\"> FREQUENZA DEI MESSAGE PER I 5 TOKEN PIÙ FREQUENTI </span>\n"
   ]
  },
  {
   "cell_type": "code",
   "execution_count": null,
   "metadata": {
    "scrolled": false
   },
   "outputs": [],
   "source": [
    "for i in range(5):\n",
    "    MESSAGE_FOR_TOKEN = numb_of_for_val_occ(a,'TOKEN','MESSAGE',i)\n",
    "    barrer3(MESSAGE_FOR_TOKEN,True)"
   ]
  },
  {
   "cell_type": "markdown",
   "metadata": {},
   "source": [
    "## <span style=\"color:red\"> FREQUENZA DEI TOKEN PER I 5 THREAD PIÙ FREQUENTI </span>\n"
   ]
  },
  {
   "cell_type": "code",
   "execution_count": null,
   "metadata": {
    "scrolled": false
   },
   "outputs": [],
   "source": [
    "for i in range(5):\n",
    "    TOKEN_FOR_THREAD = numb_of_for_val_occ(a,'THREAD','TOKEN',i)\n",
    "    barrer3(TOKEN_FOR_THREAD,True)"
   ]
  },
  {
   "cell_type": "markdown",
   "metadata": {},
   "source": [
    "## <span style=\"color:red\"> FREQUENZA DEI THREAD PER I 5 TOKEN PIÙ FREQUENTI </span>\n"
   ]
  },
  {
   "cell_type": "code",
   "execution_count": null,
   "metadata": {},
   "outputs": [],
   "source": [
    "for i in range(5):\n",
    "    THREAD_FOR_TOKEN = numb_of_for_val_occ(a,'TOKEN','THREAD',i)\n",
    "    barrer3(THREAD_FOR_TOKEN,True)"
   ]
  }
 ],
 "metadata": {
  "kernelspec": {
   "display_name": "Python 2",
   "language": "python",
   "name": "python2"
  },
  "language_info": {
   "codemirror_mode": {
    "name": "ipython",
    "version": 2
   },
   "file_extension": ".py",
   "mimetype": "text/x-python",
   "name": "python",
   "nbconvert_exporter": "python",
   "pygments_lexer": "ipython2",
   "version": "2.7.15"
  }
 },
 "nbformat": 4,
 "nbformat_minor": 2
}
