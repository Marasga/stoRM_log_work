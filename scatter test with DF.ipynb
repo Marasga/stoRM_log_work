{
 "cells": [
  {
   "cell_type": "code",
   "execution_count": 3,
   "metadata": {},
   "outputs": [],
   "source": [
    "# -*- coding: utf-8 -*-\n",
    "#!/usr/bin/python"
   ]
  },
  {
   "cell_type": "code",
   "execution_count": 4,
   "metadata": {},
   "outputs": [],
   "source": [
    "import numpy as np\n",
    "import pandas as pd\n",
    "import matplotlib.pyplot as plt\n",
    "import math"
   ]
  },
  {
   "cell_type": "code",
   "execution_count": 6,
   "metadata": {},
   "outputs": [],
   "source": [
    "data = {'nomi':['A','B','C','D','E','F'], 'tempi':[12,34,11,6,79,3], 'occorrenze':[3,1,3,4,5,2]}\n",
    "DF =  pd.DataFrame.from_dict(data)"
   ]
  },
  {
   "cell_type": "code",
   "execution_count": 4,
   "metadata": {},
   "outputs": [
    {
     "data": {
      "image/png": "[encoded data removed]",
      "text/plain": [
       "<Figure size 1008x792 with 1 Axes>"
      ]
     },
     "metadata": {
      "needs_background": "light"
     },
     "output_type": "display_data"
    }
   ],
   "source": [
    "fig = plt.figure(figsize=(14,11))\n",
    "annotation = 'test'\n",
    "plt.scatter(DF['occorrenze'],DF['tempi'])\n",
    "plt.text(10, 0, annotation, withdash=False,fontsize=10)\n",
    "plt.subplots_adjust(right=0.7)\n",
    "plt.savefig('testbb.jpg', bbox_inches='tight')\n",
    "plt.show()"
   ]
  },
  {
   "cell_type": "code",
   "execution_count": 40,
   "metadata": {},
   "outputs": [],
   "source": [
    "data = {'nomi':['A','B','A','A','C','B','E','B'], 'tempi':[0,1,2,3,4,5,6,7]}\n",
    "DF =  pd.DataFrame.from_dict(data)"
   ]
  },
  {
   "cell_type": "code",
   "execution_count": 41,
   "metadata": {},
   "outputs": [
    {
     "name": "stdout",
     "output_type": "stream",
     "text": [
      "A\n",
      "B\n",
      "C\n",
      "E\n"
     ]
    }
   ],
   "source": [
    "for i in DF['nomi'].unique():\n",
    "    print i"
   ]
  },
  {
   "cell_type": "code",
   "execution_count": 51,
   "metadata": {},
   "outputs": [
    {
     "data": {
      "text/plain": [
       "-3"
      ]
     },
     "metadata": {},
     "output_type": "display_data"
    },
    {
     "data": {
      "text/plain": [
       "-3"
      ]
     },
     "metadata": {},
     "output_type": "display_data"
    },
    {
     "data": {
      "text/html": [
       "<div>\n",
       "<style scoped>\n",
       "    .dataframe tbody tr th:only-of-type {\n",
       "        vertical-align: middle;\n",
       "    }\n",
       "\n",
       "    .dataframe tbody tr th {\n",
       "        vertical-align: top;\n",
       "    }\n",
       "\n",
       "    .dataframe thead th {\n",
       "        text-align: right;\n",
       "    }\n",
       "</style>\n",
       "<table border=\"1\" class=\"dataframe\">\n",
       "  <thead>\n",
       "    <tr style=\"text-align: right;\">\n",
       "      <th></th>\n",
       "      <th>delta_t</th>\n",
       "      <th>nomi</th>\n",
       "    </tr>\n",
       "  </thead>\n",
       "  <tbody>\n",
       "    <tr>\n",
       "      <th>0</th>\n",
       "      <td>3</td>\n",
       "      <td>A</td>\n",
       "    </tr>\n",
       "    <tr>\n",
       "      <th>1</th>\n",
       "      <td>6</td>\n",
       "      <td>B</td>\n",
       "    </tr>\n",
       "    <tr>\n",
       "      <th>2</th>\n",
       "      <td>0</td>\n",
       "      <td>C</td>\n",
       "    </tr>\n",
       "    <tr>\n",
       "      <th>3</th>\n",
       "      <td>0</td>\n",
       "      <td>E</td>\n",
       "    </tr>\n",
       "  </tbody>\n",
       "</table>\n",
       "</div>"
      ],
      "text/plain": [
       "   delta_t nomi\n",
       "0        3    A\n",
       "1        6    B\n",
       "2        0    C\n",
       "3        0    E"
      ]
     },
     "metadata": {},
     "output_type": "display_data"
    }
   ],
   "source": [
    "a = DF.loc[DF['nomi'] == 'A']\n",
    "#due modi per fare la differenza fra i timestamp\n",
    "display(a.head(1)['tempi'].values[0] - a.tail(1)['tempi'].values[0])\n",
    "display(a['tempi'].values[0] - a['tempi'].values[len(a['tempi'])-1])\n",
    "\n",
    "lista_nomi = []\n",
    "lista_dt = []\n",
    "\n",
    "for i in DF['nomi'].unique():\n",
    "    #creazione di dataframes contenenti nomi di un solo tipo\n",
    "    a = DF.loc[DF['nomi'] == i]\n",
    "    #differenza l'ultimo tempo ed il primo\n",
    "    #display(a['tempi'].values[len(a['tempi'])-1] - a['tempi'].values[0])\n",
    "    lista_nomi.append(a['nomi'].values[0])\n",
    "    lista_dt.append(a['tempi'].values[len(a['tempi'])-1] - a['tempi'].values[0])\n",
    "\n",
    "dizionario = {'nomi':lista_nomi, 'delta_t':lista_dt}\n",
    "\n",
    "DF_1 = pd.DataFrame.from_dict(dizionario)\n",
    "\n",
    "display(DF_1)"
   ]
  },
  {
   "cell_type": "markdown",
   "metadata": {},
   "source": [
    "# TEST ON LOG DF"
   ]
  },
  {
   "cell_type": "markdown",
   "metadata": {},
   "source": [
    "### -------------------------------------------------------------------------------------------------------------------------------------------------"
   ]
  },
  {
   "cell_type": "code",
   "execution_count": 5,
   "metadata": {},
   "outputs": [],
   "source": [
    "def msg_to_df(file_path):\n",
    "    \"\"\"\n",
    "    Import msgpack as pandas DF\n",
    "    \"\"\"\n",
    "    storm_df = pd.read_msgpack(file_path)\n",
    "    return storm_df"
   ]
  },
  {
   "cell_type": "code",
   "execution_count": 6,
   "metadata": {},
   "outputs": [],
   "source": [
    "def most_frequent(storm_df, label):\n",
    "    val_freq_df = storm_df[label].value_counts().to_frame()\n",
    "    val_freq_df = pd.DataFrame({label : list(val_freq_df.index), 'OCCURENCIES' : list(val_freq_df.values)},columns=[label,'OCCURENCIES'])\n",
    "    \n",
    "    #check for missing value:\n",
    "    if (reduce(lambda x, y: x+y, val_freq_df['OCCURENCIES']) != len(storm_df[label])):\n",
    "        print \"SOMETHING GONE WRONG\" \n",
    "        \n",
    "    return val_freq_df"
   ]
  },
  {
   "cell_type": "code",
   "execution_count": 7,
   "metadata": {},
   "outputs": [],
   "source": [
    "test_df = msg_to_df('storm-frontend-server.log-20180901.msg')"
   ]
  },
  {
   "cell_type": "code",
   "execution_count": 48,
   "metadata": {},
   "outputs": [],
   "source": [
    "def alternative(df):\n",
    "    \"\"\"\n",
    "    deprecated\n",
    "    \"\"\"\n",
    "    df=df[['TOKEN','TIMESTAMP']]\n",
    "    lista1=[]\n",
    "    lista2=[]\n",
    "    for token in df['TOKEN'].unique():\n",
    "        df1 = df.where(df == token)\n",
    "        df2 = df.loc[df1['TOKEN'] == token]\n",
    "        lista1.append(token)\n",
    "        lista2.append(df2.tail(1)['TIMESTAMP'].values[0] - df2.head(1)['TIMESTAMP'].values[0])\n",
    "    dizionario = {'TOKEN':lista1,'delta_t':lista2}\n",
    "    DF3= pd.DataFrame.from_dict(dizionario)\n",
    "    return DF3"
   ]
  },
  {
   "cell_type": "code",
   "execution_count": 8,
   "metadata": {},
   "outputs": [],
   "source": [
    "def alternative1(df):\n",
    "    \"\"\"\n",
    "    create for each unique token a df containing all the rows related to that token,\n",
    "    then uses timestamp of last and first row to find token duration. \n",
    "    \"\"\"\n",
    "    \n",
    "    lista1=[]\n",
    "    lista2=[]\n",
    "    for token in df['TOKEN'].unique():\n",
    "        if token != '?':\n",
    "            df2 = df.loc[df.TOKEN == token]\n",
    "            lista1.append(token)\n",
    "            lista2.append(df2.tail(1)['TIMESTAMP'].values[0] - df2.head(1)['TIMESTAMP'].values[0])\n",
    "    dizionario = {'TOKEN':lista1,'DELTA_T':lista2}\n",
    "    DF3= pd.DataFrame.from_dict(dizionario)\n",
    "    return DF3"
   ]
  },
  {
   "cell_type": "code",
   "execution_count": 12,
   "metadata": {},
   "outputs": [],
   "source": [
    "def alternative2(df):\n",
    "    \"\"\"\n",
    "    as alternative1, use np function where to find out index of uniques token, the with index \n",
    "    \"\"\"\n",
    "    lista1 , lista2 = [], []\n",
    "    for token in df.TOKEN.unique():\n",
    "        lista1.append(token)\n",
    "        index = np.where(df.TOKEN == token)\n",
    "        lista2.append(df['TIMESTAMP'].values[index[0][-1]] - df['TIMESTAMP'].values[index[0][0]])\n",
    "    dizionario ={'TOKEN':lista1, 'DELTA_T':lista2}\n",
    "    return pd.DataFrame.from_dict(dizionario)\n",
    "\n",
    "        "
   ]
  },
  {
   "cell_type": "code",
   "execution_count": 6,
   "metadata": {},
   "outputs": [],
   "source": [
    "def alternative3(df):\n",
    "    \"\"\"\n",
    "    incomplete\n",
    "    \"\"\"\n",
    "    df_mf = most_frequent(df,'TOKEN')\n",
    "    df =pd.merge(df,df_mf)\n",
    "    df =df.loc[df.OCCURENCIES > 1]\n",
    "    return df"
   ]
  },
  {
   "cell_type": "code",
   "execution_count": 108,
   "metadata": {},
   "outputs": [
    {
     "name": "stdout",
     "output_type": "stream",
     "text": [
      "1\n"
     ]
    }
   ],
   "source": [
    "index = np.where(test_df.TOKEN == '8728bd92-e1a4-472f-8c61-5630a1800cfc')\n",
    "print index[0][0]"
   ]
  },
  {
   "cell_type": "markdown",
   "metadata": {},
   "source": [
    "IDEA: forse si può velocizzare il processo scartando tutti i token che compaiono una sola volta e che sono subito disponibili utilizando most_frequent <br>\n",
    "IDEA: se  partisse dall'inizio a cercarmi i valori da confrontare (token) ed una volta trovato il primo partisse dalla fine del dataframe noi potremmo evitare di parsare tutti quelli in mezzo. La sequenza sarebbe find first, .iloc[::-1] e di nuovo find first<br>\n",
    "IDEA: Chunkare, faccio l'elaborazione di 100000 in 100000, trovo il modo di confrontare  i token  dei vari chunck e capire se nel loro delta_t deve essere aggiunto qualcosa ( un modo potrebbe essere salvare t iniziale e t finale dei token, se il t finale del chunck 1 corrisponde al t iniziale del chuck 2 ma non al t finale allora bisogna sommare il delta_t) Forse è persino più facile di così."
   ]
  },
  {
   "cell_type": "code",
   "execution_count": 19,
   "metadata": {},
   "outputs": [],
   "source": [
    "def merge_w_occ(storm_df,H=1000):\n",
    "    df1 = alternative1(storm_df.head(H))\n",
    "    df2 = most_frequent(storm_df.head(H), 'TOKEN')\n",
    "    final = pd.merge(df1,df2, on='TOKEN')\n",
    "    #final = final['TOKEN','DELTA_T','OCCURENCIES']\n",
    "    return final\n",
    "    "
   ]
  },
  {
   "cell_type": "code",
   "execution_count": 9,
   "metadata": {},
   "outputs": [],
   "source": [
    "def merge_w_occ1(storm_df):\n",
    "    df1 = alternative1(storm_df)\n",
    "    df2 = most_frequent(storm_df, 'TOKEN')\n",
    "    final = pd.merge(df1,df2, on='TOKEN')\n",
    "    #final = final['TOKEN','DELTA_T','OCCURENCIES']\n",
    "    return final\n",
    "    "
   ]
  },
  {
   "cell_type": "code",
   "execution_count": 41,
   "metadata": {},
   "outputs": [],
   "source": [
    "def scatterer(scatter_df):\n",
    "    fig = plt.figure(figsize=(14,11))\n",
    "    plt.suptitle('SCATTER DI TOKEN')\n",
    "    plt.scatter(scatter_df['OCCURENCIES'],scatter_df['DELTA_T'],s=2)\n",
    "    #plt.text(10, 0, annotation, withdash=False,fontsize=10)\n",
    "    #plt.subplots_adjust(right=0.7)\n",
    "    #plt.savefig('testbb.jpg', bbox_inches='tight')\n",
    "    plt.xlabel('NUMERO DI MESSAGGI ASSOCIATI AL TOKEN')\n",
    "    plt.ylabel('INTERVALLO TEMPORALE DI ESISTENZA DEL TOKEN (s)')\n",
    "    plt.legend(['token'],loc=2)\n",
    "    plt.savefig('testbb.jpg', bbox_inches='tight',dpi=600,transparent=False)\n",
    "    plt.grid()\n",
    "    plt.show()"
   ]
  },
  {
   "cell_type": "code",
   "execution_count": null,
   "metadata": {},
   "outputs": [],
   "source": [
    "%time merge_w_occ1(test_df).to_csv('iper_test.csv', index=False)"
   ]
  },
  {
   "cell_type": "code",
   "execution_count": 42,
   "metadata": {
    "scrolled": false
   },
   "outputs": [
    {
     "data": {
      "image/png": "[encoded data removed]",
      "text/plain": [
       "<Figure size 1008x792 with 1 Axes>"
      ]
     },
     "metadata": {
      "needs_background": "light"
     },
     "output_type": "display_data"
    }
   ],
   "source": [
    "scatterer(scatter)"
   ]
  },
  {
   "cell_type": "code",
   "execution_count": 37,
   "metadata": {},
   "outputs": [],
   "source": [
    "scatter.to_csv('scatter_storm_log_1mln.csv', index=False)"
   ]
  },
  {
   "cell_type": "markdown",
   "metadata": {},
   "source": [
    "preparare un mail draft proponendo una serie di domande e di annotazioni rispetto a quello che ho visto, quello che ho fatto etc.."
   ]
  },
  {
   "cell_type": "code",
   "execution_count": null,
   "metadata": {},
   "outputs": [],
   "source": []
  }
 ],
 "metadata": {
  "kernelspec": {
   "display_name": "Python 2",
   "language": "python",
   "name": "python2"
  },
  "language_info": {
   "codemirror_mode": {
    "name": "ipython",
    "version": 2
   },
   "file_extension": ".py",
   "mimetype": "text/x-python",
   "name": "python",
   "nbconvert_exporter": "python",
   "pygments_lexer": "ipython2",
   "version": "2.7.15"
  }
 },
 "nbformat": 4,
 "nbformat_minor": 2
}
